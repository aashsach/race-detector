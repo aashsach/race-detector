{
 "cells": [
  {
   "cell_type": "code",
   "execution_count": 2,
   "metadata": {
    "collapsed": false
   },
   "outputs": [],
   "source": [
    "import sys\n",
    "import numpy as np\n",
    "import re"
   ]
  },
  {
   "cell_type": "code",
   "execution_count": 3,
   "metadata": {
    "collapsed": true
   },
   "outputs": [],
   "source": [
    "lang_ops = set({'FORK', 'JOIN', 'LOCK', 'READ', 'THREADEXIT', 'THREADINIT', 'UNLOCK', 'WRITE', 'NOTIFY','WAIT'})"
   ]
  },
  {
   "cell_type": "code",
   "execution_count": 4,
   "metadata": {
    "collapsed": true
   },
   "outputs": [],
   "source": [
    "regex_1= r\"^( *)(\\d+)( *):( *)([A-Z]+)( *)[\\(]( *)([a-zA-Z0-9]+)( *),( *)([a-zA-Z0-9]+)( *)[\\)]( *)$\"\n",
    "regex_2 = r\"^( *)(\\d+)( *):( *)([A-Z]+)( *)[\\(]( *)([a-zA-Z0-9]+)( *)[\\)]( *)$\""
   ]
  },
  {
   "cell_type": "code",
   "execution_count": 44,
   "metadata": {
    "collapsed": false
   },
   "outputs": [],
   "source": [
    "def check_semantics(trace):\n",
    "    if trace[1] == 'FORK' and trace[2] in running and trace[3] not in created and trace[3] not in running and trace[3] not in finished:\n",
    "        created.add(trace[3])\n",
    "    elif trace[1] == 'JOIN' and trace[2] in running and trace[3] in finished:\n",
    "        ;\n",
    "    elif trace[1] == 'LOCK' and ( not locks.has_key(trace[3]) or locks.get(trace[3]) == ''):\n",
    "            locks.update({trace[3]: trace[2]})\n",
    "    elif trace[1] == 'READ' and trace[2] in running:\n",
    "        ;\n",
    "    elif trace[1] == 'THREADEXIT' and trace[2] in running:\n",
    "        running.remove(trace[2])\n",
    "        finished.add(trace[2])\n",
    "    elif trace[1] == 'THREADINIT' and trace[2] in created:\n",
    "        created.remove(trace[2])\n",
    "        running.add(trace[2])\n",
    "    elif trace[1] == 'UNLOCK' and locks.has_key(trace[3]) and locks.get(trace[3]) == trace[2]:\n",
    "        locks.update({trace[3]:\"\"})\n",
    "    elif trace[1] == 'WRITE' and trace[2] in running:\n",
    "        ;\n",
    "    elif trace[1] == 'WAIT' and trace[2] in running:\n",
    "        ;\n",
    "    elif trace[1] == 'NOTIFY' and trace[2] in running:\n",
    "        ;\n",
    "    else:\n",
    "        print \"malformed trace @ \" + str(trace)\n",
    "        sys.exit(1)\n",
    "\n",
    "def check_finish_semantics():\n",
    "    if len(created) > 0 or len(running) > 0:\n",
    "        print \"malformed trace @ \" + \"incomplete trace\"\n",
    "        #sys.exit(1)"
   ]
  },
  {
   "cell_type": "code",
   "execution_count": 6,
   "metadata": {
    "collapsed": true
   },
   "outputs": [],
   "source": [
    "def graph_add_edge(source, destination):\n",
    "    edges.add((source,destination))"
   ]
  },
  {
   "cell_type": "code",
   "execution_count": 7,
   "metadata": {
    "collapsed": false
   },
   "outputs": [],
   "source": [
    "def parser(literal):\n",
    "    global global_index\n",
    "    global_index+=1\n",
    "    if re.match(regex_1,literal) is None and re.match(regex_2, literal) is None:\n",
    "        print \"malformed trace @\" +literal\n",
    "        sys.exit(1)\n",
    "        \n",
    "    instr_no=int(literal[:literal.find(\":\")].strip())\n",
    "    if instr_no!=global_index:\n",
    "        print \"malformed trace @\" +literal\n",
    "        sys.exit(1)\n",
    "    t=[]\n",
    "    t.append(   instr_no )\n",
    "    t.append( literal[ literal.find(\":\")+1 : literal.find(\"(\") ].strip() )\n",
    "    try:\n",
    "        if t[1] not in lang_ops:\n",
    "            raise Exception\n",
    "            \n",
    "        args=literal[literal.find(\"(\")+1:literal.find(\")\")].strip().split(\",\")\n",
    "        args=[x.strip() for x in args]\n",
    "        if t[1] in [\"THREADINIT\", \"THREADEXIT\",\"NOTIFY\"]:\n",
    "            if len(args)!=1:\n",
    "                raise Exception\n",
    "        else:\n",
    "            if len(args)!=2:\n",
    "                raise Exception\n",
    "        [t.append(x) for x in args]\n",
    "        \n",
    "    except :\n",
    "        print \"malformed trace @\" +literal\n",
    "        sys.exit(1)\n",
    "    \n",
    "    check_semantics(t)\n",
    "\n",
    "    if thread_dict.has_key(t[2]):\n",
    "        graph_add_edge(thread_dict[t[2]], t[0])\n",
    "        thread_dict[t[2]] = t[0]\n",
    "    else:\n",
    "        thread_dict.update({t[2]: t[0]})\n",
    "    try:\n",
    "        \n",
    "        if t[1] in  [\"FORK\", \"UNLOCK\"]:\n",
    "            happens_before_dictionary[t[1]].update({t[3]:t[0]})\n",
    "        elif t[1] in [\"THREADEXIT\",\"NOTIFY\"]:\n",
    "            happens_before_dictionary[t[1]].update({t[2]:t[0]})\n",
    "        elif t[1] ==\"THREADINIT\":\n",
    "            graph_add_edge(happens_before_dictionary[\"FORK\"].pop(t[2]),t[0])\n",
    "        elif t[1] == \"JOIN\":\n",
    "            graph_add_edge(happens_before_dictionary[\"THREADEXIT\"].pop(t[3]),t[0])\n",
    "        elif t[1] == \"LOCK\":\n",
    "            graph_add_edge(happens_before_dictionary[\"UNLOCK\"].pop(t[3]), t[0])    \n",
    "    except KeyError:\n",
    "        ;\n",
    "    try:\n",
    "        if t[1] == \"WAIT\":\n",
    "            graph_add_edge(happens_before_dictionary[\"NOTIFY\"][t[3]], t[0])\n",
    "    except KeyError:\n",
    "        print \"malformed trace@ \" + literal\n",
    "        sys.exit(1)\n",
    "        \n",
    "    if t[1] in [\"LOCK\", \"UNLOCK\", \"READ\", \"WRITE\"]:\n",
    "        if objects.has_key(t[3]):\n",
    "            temp = objects[t[3]]\n",
    "            \n",
    "            if temp[1] == 1 and t[1]==\"READ\":\n",
    "                objects[t[3]] = (t[2],1,t[0])\n",
    "                return\n",
    "            possible_race.append((temp[2], t[0]))\n",
    "            if t[1]==\"READ\":\n",
    "                objects[t[3]] = (t[2],1,t[0])\n",
    "            else:\n",
    "                objects[t[3]] = (t[2],0,t[0])\n",
    "        else:\n",
    "            if t[1] == \"READ\":\n",
    "                objects.update({t[3] : (t[2], 1, t[0])})\n",
    "            else:\n",
    "                objects.update({t[3] : (t[2], 0, t[0])})"
   ]
  },
  {
   "cell_type": "code",
   "execution_count": 8,
   "metadata": {
    "collapsed": false
   },
   "outputs": [],
   "source": [
    "def trans_closure(edges):\n",
    "    e = set(edges)\n",
    "    while True:\n",
    "        relations = set([(a,b) for a,x in e for y,b in e if x==y])\n",
    "        new_relations = relations | e\n",
    "        if new_relations == e:\n",
    "            break\n",
    "        e = new_relations\n",
    "    return e"
   ]
  },
  {
   "cell_type": "code",
   "execution_count": 55,
   "metadata": {
    "collapsed": false
   },
   "outputs": [],
   "source": [
    "global_index=0\n",
    "created=set({\"t1\"})\n",
    "running=set()\n",
    "finished=set()\n",
    "locks = dict()\n",
    "thread_locks = dict()\n",
    "objects = dict() #{object_name : (thread_last_accessed, read:1/write:0, instruction_no)}\n",
    "\n",
    "thread_dict = dict()\n",
    "happens_before_dictionary = dict({\"FORK\" : dict(), \"THREADEXIT\" : dict(),\"UNLOCK\" : dict(), \"NOTIFY\" : dict() } )\n",
    "\n",
    "possible_race=[]\n",
    "edges = set()"
   ]
  },
  {
   "cell_type": "code",
   "execution_count": 56,
   "metadata": {
    "collapsed": false
   },
   "outputs": [
    {
     "name": "stdout",
     "output_type": "stream",
     "text": [
      "malformed trace@ 22: WAIT(t1, t3)\n"
     ]
    },
    {
     "ename": "SystemExit",
     "evalue": "1",
     "output_type": "error",
     "traceback": [
      "An exception has occurred, use %tb to see the full traceback.\n",
      "\u001b[1;31mSystemExit\u001b[0m\u001b[1;31m:\u001b[0m 1\n"
     ]
    },
    {
     "name": "stderr",
     "output_type": "stream",
     "text": [
      "To exit: use 'exit', 'quit', or Ctrl-D.\n"
     ]
    }
   ],
   "source": [
    "f= open(\"./traces/TestCases/malformed3.txt\")\n",
    "for row in f.readlines():\n",
    "    if row.strip() in ['', None]:\n",
    "        continue\n",
    "    parser(row.strip())\n",
    "f.close()\n",
    "\n",
    "check_finish_semantics()\n",
    "\n",
    "possible_race = trans_closure(possible_race)\n",
    "edges = trans_closure(edges)\n",
    "set.difference(possible_race,edges)"
   ]
  },
  {
   "cell_type": "code",
   "execution_count": 35,
   "metadata": {
    "collapsed": false
   },
   "outputs": [
    {
     "data": {
      "text/plain": [
       "set()"
      ]
     },
     "execution_count": 35,
     "metadata": {},
     "output_type": "execute_result"
    }
   ],
   "source": [
    "set.difference(possible_race,edges)"
   ]
  },
  {
   "cell_type": "code",
   "execution_count": null,
   "metadata": {
    "collapsed": true
   },
   "outputs": [],
   "source": []
  },
  {
   "cell_type": "code",
   "execution_count": 10,
   "metadata": {
    "collapsed": false
   },
   "outputs": [],
   "source": [
    "possible_race = trans_closure(possible_race)"
   ]
  },
  {
   "cell_type": "code",
   "execution_count": 11,
   "metadata": {
    "collapsed": false
   },
   "outputs": [],
   "source": [
    "edges = trans_closure(edges)"
   ]
  },
  {
   "cell_type": "code",
   "execution_count": 12,
   "metadata": {
    "collapsed": false
   },
   "outputs": [
    {
     "data": {
      "text/plain": [
       "set()"
      ]
     },
     "execution_count": 12,
     "metadata": {},
     "output_type": "execute_result"
    }
   ],
   "source": [
    "set.difference(possible_race,edges)"
   ]
  },
  {
   "cell_type": "code",
   "execution_count": 10,
   "metadata": {
    "collapsed": false
   },
   "outputs": [
    {
     "data": {
      "text/plain": [
       "{'lck1': ('t1', 0, 18), 'obj1': ('t3', 1, 9), 'obj2': ('t1', 1, 21)}"
      ]
     },
     "execution_count": 10,
     "metadata": {},
     "output_type": "execute_result"
    }
   ],
   "source": [
    "objects"
   ]
  },
  {
   "cell_type": "code",
   "execution_count": 16,
   "metadata": {
    "collapsed": false
   },
   "outputs": [
    {
     "data": {
      "text/plain": [
       "{'t1': 22, 't2': 19, 't3': 16}"
      ]
     },
     "execution_count": 16,
     "metadata": {},
     "output_type": "execute_result"
    }
   ],
   "source": [
    "thread_dict"
   ]
  },
  {
   "cell_type": "code",
   "execution_count": 17,
   "metadata": {
    "collapsed": false
   },
   "outputs": [
    {
     "data": {
      "text/plain": [
       "{'FORK': {}, 'THREADEXIT': {'t1': 22}, 'UNLOCK': {'lck1': 18}}"
      ]
     },
     "execution_count": 17,
     "metadata": {},
     "output_type": "execute_result"
    }
   ],
   "source": [
    "happens_before_dictionary"
   ]
  }
 ],
 "metadata": {
  "kernelspec": {
   "display_name": "Python 2",
   "language": "python",
   "name": "python2"
  },
  "language_info": {
   "codemirror_mode": {
    "name": "ipython",
    "version": 2
   },
   "file_extension": ".py",
   "mimetype": "text/x-python",
   "name": "python",
   "nbconvert_exporter": "python",
   "pygments_lexer": "ipython2",
   "version": "2.7.11"
  }
 },
 "nbformat": 4,
 "nbformat_minor": 0
}
