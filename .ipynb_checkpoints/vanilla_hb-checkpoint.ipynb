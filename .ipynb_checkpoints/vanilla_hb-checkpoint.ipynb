{
 "cells": [
  {
   "cell_type": "code",
   "execution_count": 15,
   "metadata": {
    "collapsed": false
   },
   "outputs": [],
   "source": [
    "import igraph\n",
    "import sys\n",
    "import numpy as np"
   ]
  },
  {
   "cell_type": "code",
   "execution_count": 16,
   "metadata": {
    "collapsed": true
   },
   "outputs": [],
   "source": [
    "lang_ops = set({'FORK', 'JOIN', 'LOCK', 'READ', 'THREADEXIT', 'THREADINIT', 'UNLOCK', 'WRITE'})"
   ]
  },
  {
   "cell_type": "code",
   "execution_count": 17,
   "metadata": {
    "collapsed": false
   },
   "outputs": [],
   "source": [
    "created=set({\"t1\"})\n",
    "running=set()\n",
    "finished=set()\n",
    "locks = dict()\n",
    "thread_locks = dict()\n",
    "objects = dict() #{object_name : (thread_last_accessed, read:1/write:0, instruction_no)}\n",
    "\n",
    "thread_dict = dict()\n",
    "happens_before_dictionary = dict({\"FORK\" : dict(),\n",
    "                                 \"THREADEXIT\" : dict(),\n",
    "                                 \"UNLOCK\" : dict() }\n",
    "                                )\n",
    "\n",
    "graph_adj_list = dict()\n",
    "possible_race=[]\n",
    "edges = set()"
   ]
  },
  {
   "cell_type": "code",
   "execution_count": 18,
   "metadata": {
    "collapsed": false
   },
   "outputs": [],
   "source": [
    "def check_semantics(trace):\n",
    "    if trace[1] == 'FORK' and trace[2] in running and trace[3] not in created and trace[3] not in running and trace[3] not in finished:\n",
    "        created.add(trace[3])\n",
    "    elif trace[1] == 'JOIN' and trace[2] in running and trace[3] in finished:\n",
    "        ;\n",
    "    elif trace[1] == 'LOCK' and ( not locks.has_key(trace[3]) or locks.get(trace[3]) == ''):\n",
    "            locks.update({trace[3]: trace[2]})\n",
    "    elif trace[1] == 'READ':\n",
    "        ;\n",
    "    elif trace[1] == 'THREADEXIT' and trace[2] in running:\n",
    "        running.remove(trace[2])\n",
    "        finished.add(trace[2])\n",
    "    elif trace[1] == 'THREADINIT' and trace[2] in created:\n",
    "        created.remove(trace[2])\n",
    "        running.add(trace[2])\n",
    "    elif trace[1] == 'UNLOCK' and locks.has_key(trace[3]) and locks.get(trace[3]) == trace[2]:\n",
    "        locks.update({trace[3]:\"\"})\n",
    "    elif trace[1] == 'WRITE':\n",
    "        ;\n",
    "    else:\n",
    "        print \"malformed trace @ \" + str(trace)\n",
    "        sys.exit(1)\n",
    "\n",
    "def check_finish_semantics():\n",
    "    if len(created) > 0 or len(running) > 0:\n",
    "        print \"malformed trace @ \" + str(trace)\n",
    "        sys.exit(1)"
   ]
  },
  {
   "cell_type": "code",
   "execution_count": 19,
   "metadata": {
    "collapsed": true
   },
   "outputs": [],
   "source": [
    "def graph_add_edge(source, destination):\n",
    "    if graph_adj_list.has_key(source):\n",
    "        graph_adj_list[source].append(destination)\n",
    "    else:\n",
    "        graph_adj_list.update({source:[destination]})\n",
    "    edges.add((source,destination))"
   ]
  },
  {
   "cell_type": "code",
   "execution_count": 20,
   "metadata": {
    "collapsed": false
   },
   "outputs": [],
   "source": [
    "def parser(literal):\n",
    "    t=[]\n",
    "    t.append( int(literal[:literal.find(\":\")].strip())   )\n",
    "    t.append( literal[ literal.find(\":\")+1 : literal.find(\"(\") ].strip() )\n",
    "    try:\n",
    "        if t[1] not in lang_ops:\n",
    "            raise Exception\n",
    "    except Exception:\n",
    "        print \"malformed trace @\" +literal\n",
    "        sys.exit(1)\n",
    "        \n",
    "    args=literal[literal.find(\"(\")+1:literal.find(\")\")].strip().split(\",\")\n",
    "    args=[x.strip() for x in args]\n",
    "    [t.append(x) for x in args]\n",
    "    \n",
    "    check_semantics(t)\n",
    "\n",
    "    if thread_dict.has_key(t[2]):\n",
    "        graph_add_edge(thread_dict[t[2]], t[0])\n",
    "        thread_dict[t[2]] = t[0]\n",
    "    else:\n",
    "        thread_dict.update({t[2]: t[0]})\n",
    "    try:\n",
    "        \n",
    "        if t[1] in  [\"FORK\", \"UNLOCK\"]:\n",
    "            happens_before_dictionary[t[1]].update({t[3]:t[0]})\n",
    "        elif t[1] == \"THREADEXIT\":\n",
    "            happens_before_dictionary[t[1]].update({t[2]:t[0]})\n",
    "        elif t[1] ==\"THREADINIT\":\n",
    "            graph_add_edge(happens_before_dictionary[\"FORK\"].pop(t[2]),t[0])\n",
    "        elif t[1] == \"JOIN\":\n",
    "            graph_add_edge(happens_before_dictionary[\"THREADEXIT\"].pop(t[3]),t[0])\n",
    "        elif t[1] == \"LOCK\":\n",
    "            graph_add_edge(happens_before_dictionary[\"UNLOCK\"].pop(t[3]), t[0])\n",
    "    except KeyError:\n",
    "        ;\n",
    "    \n",
    "    if t[1] in [\"LOCK\", \"UNLOCK\", \"READ\", \"WRITE\"]:\n",
    "        if objects.has_key(t[3]):\n",
    "            temp = objects[t[3]]\n",
    "            if temp[1] == 1 and t[1]==\"READ\":\n",
    "                objects[t[3]] = (t[2],1,t[0])\n",
    "                return\n",
    "            possible_race.append((temp[2], t[0]))\n",
    "            if t[1]==\"READ\":\n",
    "                objects[t[3]] = (t[2],1,t[0])\n",
    "            else:\n",
    "                objects[t[3]] = (t[2],0,t[0])\n",
    "        else:\n",
    "            if t[1] == \"READ\":\n",
    "                objects.update({t[3] : (t[2], 1, t[0])})\n",
    "            else:\n",
    "                objects.update({t[3] : (t[2], 0, t[0])})"
   ]
  },
  {
   "cell_type": "code",
   "execution_count": 21,
   "metadata": {
    "collapsed": false
   },
   "outputs": [],
   "source": [
    "f= open(\"./traces/trace1.txt\")\n",
    "for row in f.readlines():\n",
    "    parser(row.strip())\n",
    "f.close()\n",
    "\n",
    "check_finish_semantics()"
   ]
  },
  {
   "cell_type": "code",
   "execution_count": 17,
   "metadata": {
    "collapsed": false
   },
   "outputs": [],
   "source": [
    "igraph.plot(graph, vertex_label=graph.vs[\"name\"], inline = False)"
   ]
  },
  {
   "cell_type": "code",
   "execution_count": 32,
   "metadata": {
    "collapsed": false
   },
   "outputs": [],
   "source": [
    "del graph"
   ]
  },
  {
   "cell_type": "code",
   "execution_count": 29,
   "metadata": {
    "collapsed": false
   },
   "outputs": [
    {
     "data": {
      "text/plain": [
       "{'lck1': ('t1', 0, 18), 'obj1': ('t3', 1, 9), 'obj2': ('t1', 1, 21)}"
      ]
     },
     "execution_count": 29,
     "metadata": {},
     "output_type": "execute_result"
    }
   ],
   "source": [
    "objects"
   ]
  },
  {
   "cell_type": "code",
   "execution_count": 50,
   "metadata": {
    "collapsed": false
   },
   "outputs": [
    {
     "data": {
      "text/plain": [
       "[(3, 6), (6, 9), (5, 11), (11, 12), (13, 14), (12, 15)]"
      ]
     },
     "execution_count": 50,
     "metadata": {},
     "output_type": "execute_result"
    }
   ],
   "source": [
    "possible_race"
   ]
  },
  {
   "cell_type": "code",
   "execution_count": 51,
   "metadata": {
    "collapsed": true
   },
   "outputs": [
    {
     "data": {
      "text/plain": [
       "{1: [2],\n",
       " 2: [3, 4],\n",
       " 3: [14],\n",
       " 4: [5],\n",
       " 5: [6],\n",
       " 6: [7],\n",
       " 7: [8, 10],\n",
       " 8: [9],\n",
       " 9: [11],\n",
       " 10: [12],\n",
       " 11: [16],\n",
       " 12: [13],\n",
       " 13: [14, 17],\n",
       " 14: [15],\n",
       " 15: [18],\n",
       " 16: [17],\n",
       " 17: [19],\n",
       " 18: [20],\n",
       " 19: [20],\n",
       " 20: [21],\n",
       " 21: [22]}"
      ]
     },
     "execution_count": 51,
     "metadata": {},
     "output_type": "execute_result"
    }
   ],
   "source": [
    "graph_adj_list"
   ]
  },
  {
   "cell_type": "code",
   "execution_count": 92,
   "metadata": {
    "collapsed": false
   },
   "outputs": [
    {
     "name": "stdout",
     "output_type": "stream",
     "text": [
      "race @ (3, 9)\n",
      "race @ (3, 6)\n",
      "race @ (11, 15)\n",
      "race @ (11, 12)\n"
     ]
    }
   ],
   "source": [
    "for race in possible_race:\n",
    "    if race not in edges:\n",
    "        print \"race @ \" + str(race)"
   ]
  },
  {
   "cell_type": "code",
   "execution_count": 59,
   "metadata": {
    "collapsed": false
   },
   "outputs": [
    {
     "ename": "TypeError",
     "evalue": "unhashable type: 'numpy.ndarray'",
     "output_type": "error",
     "traceback": [
      "\u001b[1;31m---------------------------------------------------------------------------\u001b[0m",
      "\u001b[1;31mTypeError\u001b[0m                                 Traceback (most recent call last)",
      "\u001b[1;32m<ipython-input-59-a3a4a8962f66>\u001b[0m in \u001b[0;36m<module>\u001b[1;34m()\u001b[0m\n\u001b[1;32m----> 1\u001b[1;33m \u001b[0mgraph_adj_list\u001b[0m\u001b[1;33m[\u001b[0m\u001b[0mnp\u001b[0m\u001b[1;33m.\u001b[0m\u001b[0marray\u001b[0m\u001b[1;33m(\u001b[0m\u001b[0mgraph_adj_list\u001b[0m\u001b[1;33m[\u001b[0m\u001b[1;36m2\u001b[0m\u001b[1;33m]\u001b[0m\u001b[1;33m)\u001b[0m \u001b[1;33m<\u001b[0m \u001b[1;36m3\u001b[0m\u001b[1;33m]\u001b[0m\u001b[1;33m\u001b[0m\u001b[0m\n\u001b[0m",
      "\u001b[1;31mTypeError\u001b[0m: unhashable type: 'numpy.ndarray'"
     ]
    }
   ],
   "source": [
    "3 and 6, 3 and 9, 5 and 15, 10 and 14, 11 and 12, 11 and 15."
   ]
  },
  {
   "cell_type": "code",
   "execution_count": 10,
   "metadata": {
    "collapsed": false
   },
   "outputs": [],
   "source": [
    "def trans_closure(edges):\n",
    "    e = set(edges)\n",
    "    while True:\n",
    "        relations = set([(a,b) for a,x in e for y,b in e if x==y])\n",
    "        new_relations = relations | e\n",
    "        if new_relations == e:\n",
    "            break\n",
    "        e = new_relations\n",
    "    return e"
   ]
  },
  {
   "cell_type": "code",
   "execution_count": 22,
   "metadata": {
    "collapsed": false
   },
   "outputs": [],
   "source": [
    "possible_race = trans_closure(possible_race)"
   ]
  },
  {
   "cell_type": "code",
   "execution_count": 23,
   "metadata": {
    "collapsed": false
   },
   "outputs": [],
   "source": [
    "edges = trans_closure(edges)"
   ]
  },
  {
   "cell_type": "code",
   "execution_count": 25,
   "metadata": {
    "collapsed": false
   },
   "outputs": [
    {
     "data": {
      "text/plain": [
       "{(3, 6), (3, 9), (11, 12), (11, 15)}"
      ]
     },
     "execution_count": 25,
     "metadata": {},
     "output_type": "execute_result"
    }
   ],
   "source": [
    "set.difference(possible_race,edges)"
   ]
  },
  {
   "cell_type": "code",
   "execution_count": 24,
   "metadata": {
    "collapsed": false
   },
   "outputs": [
    {
     "data": {
      "text/plain": [
       "{(3, 6),\n",
       " (3, 9),\n",
       " (5, 11),\n",
       " (5, 12),\n",
       " (5, 15),\n",
       " (5, 21),\n",
       " (6, 9),\n",
       " (10, 13),\n",
       " (10, 14),\n",
       " (10, 18),\n",
       " (11, 12),\n",
       " (11, 15),\n",
       " (11, 21),\n",
       " (12, 15),\n",
       " (12, 21),\n",
       " (13, 14),\n",
       " (13, 18),\n",
       " (14, 18),\n",
       " (15, 21)}"
      ]
     },
     "execution_count": 24,
     "metadata": {},
     "output_type": "execute_result"
    }
   ],
   "source": [
    "possible_race"
   ]
  },
  {
   "cell_type": "code",
   "execution_count": null,
   "metadata": {
    "collapsed": true
   },
   "outputs": [],
   "source": []
  }
 ],
 "metadata": {
  "kernelspec": {
   "display_name": "Python 2",
   "language": "python",
   "name": "python2"
  },
  "language_info": {
   "codemirror_mode": {
    "name": "ipython",
    "version": 2
   },
   "file_extension": ".py",
   "mimetype": "text/x-python",
   "name": "python",
   "nbconvert_exporter": "python",
   "pygments_lexer": "ipython2",
   "version": "2.7.11"
  }
 },
 "nbformat": 4,
 "nbformat_minor": 0
}
