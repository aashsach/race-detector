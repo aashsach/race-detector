{
 "cells": [
  {
   "cell_type": "code",
   "execution_count": 1,
   "metadata": {
    "collapsed": false
   },
   "outputs": [],
   "source": [
    "import sys\n",
    "import numpy as np\n",
    "import math\n",
    "import re"
   ]
  },
  {
   "cell_type": "code",
   "execution_count": 2,
   "metadata": {
    "collapsed": true
   },
   "outputs": [],
   "source": [
    "\"\"\"possible operations in given language\"\"\"\n",
    "lang_ops = set({'FORK', 'JOIN', 'LOCK', 'READ', 'THREADEXIT', 'THREADINIT', 'UNLOCK', 'WRITE'})"
   ]
  },
  {
   "cell_type": "code",
   "execution_count": 3,
   "metadata": {
    "collapsed": true
   },
   "outputs": [],
   "source": [
    "\"\"\"pattern matching\"\"\"\n",
    "regex_1= r\"^( *)(\\d+)( *):( *)([A-Z]+)( *)[\\(]( *)([a-zA-Z0-9]+)( *),( *)([a-zA-Z0-9]+)( *)[\\)]( *)$\"\n",
    "regex_2 = r\"^( *)(\\d+)( *):( *)([A-Z]+)( *)[\\(]( *)([a-zA-Z0-9]+)( *)[\\)]( *)$\""
   ]
  },
  {
   "cell_type": "code",
   "execution_count": 4,
   "metadata": {
    "collapsed": false
   },
   "outputs": [],
   "source": [
    "\"\"\"for semantics of trace\"\"\"\n",
    "created=set({\"t1\"})\n",
    "running=set()\n",
    "finished=set()\n",
    "locks = dict()\n",
    "global_idx=0\n",
    "\n",
    "\"\"\" for possible_race checking\"\"\"\n",
    "objects = dict() #{object_name : (thread_last_accessed, read:1/write:0, instruction_no)}\n",
    "possible_race=[]\n",
    "\n",
    "\"\"\"for computing happens before\"\"\"\n",
    "thread_dict = dict()\n",
    "happens_before_dictionary = dict({\"FORK\" : dict(), \"THREADEXIT\" : dict(),\"UNLOCK\" : dict() } )\n",
    "lu_dict=dict() #lock_unlock dictionary\n",
    "lu_hb=set() #lock_unlock happens before\n",
    "edges = set() # set of edges in graph (source,destination)"
   ]
  },
  {
   "cell_type": "code",
   "execution_count": 5,
   "metadata": {
    "collapsed": false
   },
   "outputs": [],
   "source": [
    "\"\"\"populates lock_unlock dictionary to maintain start and end of lock acq and lock rel \"\"\"\n",
    "\n",
    "def lock_unlock_dictionary(t):\n",
    "    if lu_dict[t[2]].has_key(t[3]):\n",
    "        if t[1] == \"LOCK\":\n",
    "            lu_dict[t[2]][t[3]].append(t[0])\n",
    "        else:\n",
    "            lu_dict[t[2]][t[3]][-1]=(lu_dict[t[2]][t[3]][-1], t[0])\n",
    "        \n",
    "    else:\n",
    "        lu_dict[t[2]].update({t[3]: [t[0]]})"
   ]
  },
  {
   "cell_type": "code",
   "execution_count": 6,
   "metadata": {
    "collapsed": false
   },
   "outputs": [],
   "source": [
    "\"\"\"check semantics of trace\"\"\"\n",
    "\n",
    "def check_semantics(trace):\n",
    "    if trace[1] == 'FORK' and trace[2] in running and trace[3] not in created and trace[3] not in running and trace[3] not in finished:\n",
    "        created.add(trace[3])\n",
    "    elif trace[1] == 'JOIN' and trace[2] in running and trace[3] in finished:\n",
    "        ;\n",
    "    elif trace[1] == 'LOCK' and trace[2] in running and ( not locks.has_key(trace[3]) or locks.get(trace[3]) == ''):\n",
    "            locks.update({trace[3]: trace[2]})\n",
    "    elif trace[1] == 'READ' and trace[2] in running:\n",
    "        ;\n",
    "    elif trace[1] == 'THREADEXIT' and trace[2] in running:\n",
    "        running.remove(trace[2])\n",
    "        finished.add(trace[2])\n",
    "    elif trace[1] == 'THREADINIT' and trace[2] in created:\n",
    "        created.remove(trace[2])\n",
    "        running.add(trace[2])\n",
    "    elif trace[1] == 'UNLOCK' and trace[2] in running and locks.has_key(trace[3]) and locks.get(trace[3]) == trace[2]:\n",
    "        locks.update({trace[3]:\"\"})\n",
    "    elif trace[1] == 'WRITE' and trace[2] in running:\n",
    "        ;\n",
    "    else:\n",
    "        print \"malformed trace @ \" + str(trace)\n",
    "        sys.exit(1)\n",
    "\n",
    "\"\"\"check semantics after entire file has been read\"\"\"\n",
    "\n",
    "def check_finish_semantics():\n",
    "    if len(created) > 0 or len(running) > 0:\n",
    "        print \"malformed trace @ \" + str(trace)\n",
    "        sys.exit(1)"
   ]
  },
  {
   "cell_type": "code",
   "execution_count": 7,
   "metadata": {
    "collapsed": true
   },
   "outputs": [],
   "source": [
    "\"\"\"adds edges to happens-before graph\"\"\"\n",
    "def graph_add_edge(source, destination):\n",
    "    edges.add((source,destination))"
   ]
  },
  {
   "cell_type": "code",
   "execution_count": 8,
   "metadata": {
    "collapsed": true
   },
   "outputs": [],
   "source": [
    "\"\"\"function for maintaing and updating all dictionaries\"\"\"\n",
    "def update_dictionaries(t):\n",
    "    if thread_dict.has_key(t[2]):\n",
    "        graph_add_edge(thread_dict[t[2]], t[0])\n",
    "        thread_dict[t[2]] = t[0]\n",
    "    else:\n",
    "        thread_dict.update({t[2]: t[0]})\n",
    "        \n",
    "    if lu_dict.has_key(t[2]):\n",
    "        lu_dict[t[2]][\"inst\"].append(t[0])\n",
    "    else:\n",
    "        lu_dict.update({t[2]: dict( { \"inst\": [t[0]] } ) } )\n",
    "    try:\n",
    "        \n",
    "        if t[1] in  [\"FORK\", \"UNLOCK\"]:\n",
    "            happens_before_dictionary[t[1]].update({t[3]:t[0]})\n",
    "        elif t[1] == \"THREADEXIT\":\n",
    "            happens_before_dictionary[t[1]].update({t[2]:t[0]})\n",
    "        elif t[1] ==\"THREADINIT\":\n",
    "            graph_add_edge(happens_before_dictionary[\"FORK\"].pop(t[2]),t[0])\n",
    "        elif t[1] == \"JOIN\":\n",
    "            graph_add_edge(happens_before_dictionary[\"THREADEXIT\"].pop(t[3]),t[0])\n",
    "        elif t[1] == \"LOCK\":\n",
    "            lu_hb.add((happens_before_dictionary[\"UNLOCK\"].pop(t[3]), t[0]))\n",
    "    except KeyError:\n",
    "        ;\n",
    "    \n",
    "    if t[1] in [\"LOCK\", \"UNLOCK\"]:\n",
    "            lock_unlock_dictionary(t)\n",
    "    \n",
    "    if t[1] in [ \"READ\", \"WRITE\"]:\n",
    "        if objects.has_key(t[3]):\n",
    "            temp = objects[t[3]]\n",
    "            \n",
    "            if temp[1] == 1 and t[1]==\"READ\":\n",
    "                objects[t[3]] = (t[2],1,t[0])\n",
    "                return\n",
    "            possible_race.append((temp[2], t[0]))\n",
    "            if t[1]==\"READ\":\n",
    "                objects[t[3]] = (t[2],1,t[0])\n",
    "            else:\n",
    "                objects[t[3]] = (t[2],0,t[0])\n",
    "        else:\n",
    "            if t[1] == \"READ\":\n",
    "                objects.update({t[3] : (t[2], 1, t[0])})\n",
    "            else:\n",
    "                objects.update({t[3] : (t[2], 0, t[0])})"
   ]
  },
  {
   "cell_type": "code",
   "execution_count": 9,
   "metadata": {
    "collapsed": false
   },
   "outputs": [],
   "source": [
    "\"\"\"parses file row by row\"\"\"\n",
    "\n",
    "def parser(literal):\n",
    "    if re.match(regex_1,literal) is None and re.match(regex_2, literal) is None:\n",
    "        print \"malformed trace @\" +literal\n",
    "        sys.exit(1)\n",
    "    global global_idx\n",
    "    global_idx+=1\n",
    "    instr_no=int(literal[:literal.find(\":\")].strip())\n",
    "    if instr_no != global_idx:\n",
    "        print \"malformed trace: out of order index @\" +literal\n",
    "        sys.exit(1)\n",
    "    t=[]\n",
    "    t.append(   instr_no )\n",
    "    t.append( literal[ literal.find(\":\")+1 : literal.find(\"(\") ].strip() )\n",
    "    try:\n",
    "        if t[1] not in lang_ops:\n",
    "            raise Exception\n",
    "            \n",
    "        args=literal[literal.find(\"(\")+1:literal.find(\")\")].strip().split(\",\")\n",
    "        args=[x.strip() for x in args]\n",
    "        if t[1] in [\"THREADINIT\", \"THREADEXIT\"]:\n",
    "            if len(args)!=1:\n",
    "                raise Exception\n",
    "        else:\n",
    "            if len(args)!=2:\n",
    "                raise Exception\n",
    "        [t.append(x) for x in args]\n",
    "        \n",
    "    except :\n",
    "        print \"malformed trace @\" +literal\n",
    "        sys.exit(1)\n",
    "    \n",
    "    check_semantics(t)\n",
    "    \n",
    "    if t[1] == \"LOCK\":\n",
    "        dummy = [float(t[0])-0.5, \"WRITE\", t[2], t[3]]\n",
    "        update_dictionaries(dummy)\n",
    "    \n",
    "    update_dictionaries(t)"
   ]
  },
  {
   "cell_type": "code",
   "execution_count": 10,
   "metadata": {
    "collapsed": false
   },
   "outputs": [],
   "source": [
    "\"\"\"computes transitice closure of the argument set\"\"\"\n",
    "\n",
    "def trans_closure(edges):\n",
    "    e = set(edges)\n",
    "    while True:\n",
    "        relations = set([(a,b) for a,x in e for y,b in e if x==y])\n",
    "        new_relations = relations | e\n",
    "        if new_relations == e:\n",
    "            break\n",
    "        e = new_relations\n",
    "    return e"
   ]
  },
  {
   "cell_type": "code",
   "execution_count": 11,
   "metadata": {
    "collapsed": false
   },
   "outputs": [],
   "source": [
    "f= open(\"./traces/trace5.txt\")\n",
    "for row in f.readlines():\n",
    "    parser(row.strip())\n",
    "f.close()\n",
    "\n",
    "check_finish_semantics()"
   ]
  },
  {
   "cell_type": "code",
   "execution_count": 12,
   "metadata": {
    "collapsed": false
   },
   "outputs": [],
   "source": [
    "\"\"\"inter lock happens before\"\"\"\n",
    "\n",
    "for tid in lu_dict.keys():\n",
    "    inst = np.array(lu_dict[tid][\"inst\"])\n",
    "    for key in lu_dict[tid]:\n",
    "        if key == \"inst\":\n",
    "            continue\n",
    "        for lu in lu_dict[tid][key]:\n",
    "            l = lu[0]\n",
    "            u = lu[1]\n",
    "            map(lu_hb.add,[(a,b) for a in inst[inst>=l] for b in inst[inst<=u] if a<b])"
   ]
  },
  {
   "cell_type": "code",
   "execution_count": 13,
   "metadata": {
    "collapsed": false
   },
   "outputs": [],
   "source": [
    "possible_race = trans_closure(possible_race)"
   ]
  },
  {
   "cell_type": "code",
   "execution_count": 14,
   "metadata": {
    "collapsed": false
   },
   "outputs": [],
   "source": [
    "edges = trans_closure(edges)"
   ]
  },
  {
   "cell_type": "code",
   "execution_count": 15,
   "metadata": {
    "collapsed": false
   },
   "outputs": [],
   "source": [
    "lu_hb = trans_closure(lu_hb)"
   ]
  },
  {
   "cell_type": "code",
   "execution_count": 16,
   "metadata": {
    "collapsed": false
   },
   "outputs": [],
   "source": [
    "race = set.difference(possible_race,edges)"
   ]
  },
  {
   "cell_type": "code",
   "execution_count": 17,
   "metadata": {
    "collapsed": true
   },
   "outputs": [],
   "source": [
    "race= set.difference(race,lu_hb)"
   ]
  },
  {
   "cell_type": "code",
   "execution_count": 18,
   "metadata": {
    "collapsed": false
   },
   "outputs": [
    {
     "data": {
      "text/plain": [
       "[(4, 8)]"
      ]
     },
     "execution_count": 18,
     "metadata": {},
     "output_type": "execute_result"
    }
   ],
   "source": [
    "[(int(math.ceil(x)), int(math.ceil(y))) for x,y in race]"
   ]
  },
  {
   "cell_type": "code",
   "execution_count": null,
   "metadata": {
    "collapsed": true
   },
   "outputs": [],
   "source": []
  }
 ],
 "metadata": {
  "kernelspec": {
   "display_name": "Python 2",
   "language": "python",
   "name": "python2"
  },
  "language_info": {
   "codemirror_mode": {
    "name": "ipython",
    "version": 2
   },
   "file_extension": ".py",
   "mimetype": "text/x-python",
   "name": "python",
   "nbconvert_exporter": "python",
   "pygments_lexer": "ipython2",
   "version": "2.7.11"
  }
 },
 "nbformat": 4,
 "nbformat_minor": 0
}
